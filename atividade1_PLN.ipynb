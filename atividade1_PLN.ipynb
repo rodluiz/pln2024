{
  "nbformat": 4,
  "nbformat_minor": 0,
  "metadata": {
    "colab": {
      "provenance": [],
      "mount_file_id": "11Geq1Top6X019Os3mHcpZLAmBOX2HZBL",
      "authorship_tag": "ABX9TyOS3FXj3QhyRKhLqLSei564",
      "include_colab_link": true
    },
    "kernelspec": {
      "name": "python3",
      "display_name": "Python 3"
    },
    "language_info": {
      "name": "python"
    }
  },
  "cells": [
    {
      "cell_type": "markdown",
      "metadata": {
        "id": "view-in-github",
        "colab_type": "text"
      },
      "source": [
        "<a href=\"https://colab.research.google.com/github/rodluiz/pln2024/blob/main/atividade1_PLN.ipynb\" target=\"_parent\"><img src=\"https://colab.research.google.com/assets/colab-badge.svg\" alt=\"Open In Colab\"/></a>"
      ]
    },
    {
      "cell_type": "markdown",
      "source": [
        "Exercício 1: Escreva um pequeno trecho de código em linguagem Python capaz de carregar o arquivo texto  chamado \"Texto_Homem_Lua.txt\"   no ambiente Colab e em seguida transformar todos os caracteres do texto para minúsculos, além de retirar os números e as pontuações."
      ],
      "metadata": {
        "id": "wVBdRlZ3MES2"
      }
    },
    {
      "cell_type": "code",
      "execution_count": 1,
      "metadata": {
        "colab": {
          "base_uri": "https://localhost:8080/"
        },
        "id": "TSxf7QLsHUWz",
        "outputId": "1a08337b-e011-4b41-8a26-61cb37284592"
      },
      "outputs": [
        {
          "output_type": "stream",
          "name": "stdout",
          "text": [
            "﻿a chegada do homem à lua em  de julho de  constitui um dos maiores feitos científicos do século xxem  de julho de  dois astronautas americanos neil armstrong e buzz aldrin se tornaram os primeiros seres humanos a por os pés em solo lunar um terceiro michael collins \n",
            "ficou em órbita dando suporte aos companheiros\n",
            "este feito só foi possível devido a um pesado investimento técnicocientífico de  bilhões de dólares que envolveu mais de cem mil pessoas igualmente na década de  as duas potências mundiais estados unidos e união soviética usavam a conquista espacial para fazer propaganda \n",
            "sobre os benefícios dos seus respectivos sistemas políticos\n",
            "os soviéticos mandaram o primeiro homem a sobrevoar o espaço o cosmonauta yuri gagarin \n",
            "sentindo que ficavam para trás na corrida espacial o presidente americano john kennedy lança o desafio de pousar na lua antes do final da década de \n"
          ]
        }
      ],
      "source": [
        "# Carregar o arquivo de texto\n",
        "with open('/content/txt/Texto_Homem_Lua.txt', 'r') as file:\n",
        "    text = file.read()\n",
        "\n",
        "# Converter todos os caracteres em minúsculas\n",
        "text = text.lower()\n",
        "\n",
        "# Remover números e pontuação\n",
        "import string\n",
        "translator = str.maketrans('', '', string.punctuation + string.digits)\n",
        "text = text.translate(translator)\n",
        "\n",
        "# Imprimir o texto processado\n",
        "print(text)"
      ]
    },
    {
      "cell_type": "markdown",
      "source": [
        "Exercício 2: Ao carregar o texto  \"Texto_Homem_Lua.txt\"  , responder as seguintes perguntas:\n",
        "\n",
        "1-) Quantos caracteres tem o texto original?\n",
        "\n",
        "2-) Quantos caracteres tem o texto com as letras todas em formato minúsculo?\n",
        "\n",
        "3-) Quantos caracteres tem o texto sem números e sem pontuações?\n",
        "\n",
        "4-) Como saber se a palavra “Estados Unidos” aparece no texto original? E no texto transformado para letras minúsculas, como seria? Informe o código necessário em Python para os dois casos."
      ],
      "metadata": {
        "id": "Qm3gj2BOMEKU"
      }
    },
    {
      "cell_type": "code",
      "source": [
        "# Carregar o arquivo de texto\n",
        "with open('/content/txt/Texto_Homem_Lua.txt', 'r') as file:\n",
        "    text = file.read()\n",
        "\n",
        "# 1) Número de caracteres no texto original:\n",
        "print(\"Número de caracteres no texto original:\", len(text))\n",
        "\n",
        "# 2) Número de caracteres no texto em minúsculo:\n",
        "text = text.lower()\n",
        "print(\"Número de caracteres no texto em minúsculo:\", len(text))\n",
        "\n",
        "# 3) Número de caracteres no texto sem números e pontuações:\n",
        "import string\n",
        "translator = str.maketrans('', '', string.punctuation + string.digits)\n",
        "text = text.translate(translator)\n",
        "print(\"Número de caracteres no texto sem números e pontuações:\", len(text))\n",
        "\n",
        "# 4) Verificar se a palavra 'Estados Unidos' aparece no texto original:\n",
        "if text.find(\"Estados Unidos\") != -1:\n",
        "    print(\"A palavra 'Estados Unidos' aparece no texto original.\")\n",
        "else:\n",
        "    print(\"A palavra 'Estados Unidos' não aparece no texto original.\")\n",
        "\n",
        "# Verificar se a palavra 'estados unidos' aparece no texto transformado para minúsculo:\n",
        "if text.find(\"estados unidos\") != -1:\n",
        "    print(\"A palavra 'estados unidos' aparece no texto transformado para minúsculo.\")\n",
        "else:\n",
        "    print(\"A palavra 'estados unidos' não aparece no texto transformado para minúsculo.\")"
      ],
      "metadata": {
        "colab": {
          "base_uri": "https://localhost:8080/"
        },
        "id": "8o9Y0LqJJN77",
        "outputId": "9b9bda09-70c9-43c1-deb9-3d98d1362c71"
      },
      "execution_count": 4,
      "outputs": [
        {
          "output_type": "stream",
          "name": "stdout",
          "text": [
            "Número de caracteres no texto original: 925\n",
            "Número de caracteres no texto em minúsculo: 925\n",
            "Número de caracteres no texto sem números e pontuações: 884\n",
            "A palavra 'Estados Unidos' não aparece no texto original.\n",
            "A palavra 'estados unidos' aparece no texto transformado para minúsculo.\n"
          ]
        }
      ]
    }
  ]
}